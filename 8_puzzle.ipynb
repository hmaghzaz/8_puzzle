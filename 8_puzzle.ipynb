{
 "cells": [
  {
   "cell_type": "markdown",
   "metadata": {},
   "source": [
    "# Développement d'un Agent IA pour la Résolution d'un Puzzle 3x3 (8 Puzzle)\n",
    "\n",
    "Dans ce projet, nous allons créer un agent IA pour résoudre un puzzle de 3 lignes et 3 colonnes, où chaque case contient un chiffre de 1 à 8, sans répétition, avec une case vide. L'objectif de l'agent est de déplacer les cases en utilisant la case vide afin d'obtenir l'ordre croissant de 1 à 8."
   ]
  },
  {
   "cell_type": "markdown",
   "metadata": {},
   "source": [
    "## Environnemment\n",
    "\n",
    "| 1 | 2 | 3 |\n",
    "|---|---|---|\n",
    "| 4 | 5 | 6 |\n",
    "|   7| 8 |  |\n",
    "\n",
    "\n",
    "### Type de l'environnement \n",
    "1) Entièrement observable: l'agent a accès à toutes les informations nécessaires pour connaître l'état du puzzle dès la première observation.\n",
    "2) Déterministe : chaque action de l'agent entraine un état attendu, sans variations inattendues.\n",
    "3) Statique: l'état du l'environnement ne se change pas de manière autonome. c'est l'action executé par l'agent qui modifie la position des cases.\n",
    "4) Discret: dans le puzzle 3x3, il y a un nombre limité de cases et de configurations possibles pour les chiffres et la case vide. Chaque mouvement mène à un état distinct et identifiable du puzzle.\n",
    "5) Connu : l’agent sait que chaque action déplace la case vide dans une direction précise et produit un état bien défini, sans aucune incertitude.\n",
    "6) Séquentiel: les actions sont donc séquentielles car elles s'enchaînent logiquement et influencent les états futurs de l’environnement.\n",
    "7) Agent unique : il n’y a qu'un seul agent qui manipule les cases pour atteindre l’objectif. Aucun autre agent ne participe à la résolution du puzzle.  \n",
    "\n",
    "### Representation de l'evironnement :\n",
    "L'état du puzzle 3X3 peut être représenter par une matrice 2D, chaque cellule contient un nombre de 1 à 8 et une case vide représenter par 0. "
   ]
  },
  {
   "cell_type": "code",
   "execution_count": null,
   "metadata": {},
   "outputs": [],
   "source": [
    "# Exemple d'état initial\n",
    "initial_state = [\n",
    "    [1, 2, 3],\n",
    "    [4, 5, 6],\n",
    "    [7, 0, 8]  # 0 représente la case vide\n",
    "]"
   ]
  },
  {
   "cell_type": "markdown",
   "metadata": {},
   "source": [
    "### Test de solvabilité\n",
    "\n",
    "Il n'est pas possible de résoudre une instance de 8 puzzle si le nombre d'inversions est impair dans l'état d'entrée.\n",
    "\n",
    "| 1 | 2 | 3 |\n",
    "|---|---|---|\n",
    "| 4 | 5 | 6 |\n",
    "|   | 8 | 7 |\n",
    "\n",
    "\n",
    "Écrivez-le de façon linéaire, 1,2,3,4,5,6,8,7 - Ne tenez pas compte de la tuile vide.\n",
    "\n",
    "Trouvez maintenant le nombre d'inversions, en comptant les tuiles qui précèdent une autre tuile avec un nombre inférieur.\n",
    "\n",
    "Dans notre cas, 1,2,3,4,5,6,7 a 0 inversion, et 8 a 1 inversion car il précède le chiffre 7.\n",
    "\n",
    "Le nombre total d'inversions est de 1 (nombre impair) et le puzzle est donc insoluble.\n",
    "\n",
    "\n",
    "-----------------------------------------------------------------------------------------------------------------------------------------------\n",
    "\n",
    "\n",
    "\n",
    "| 5 | 2 | 8 |\n",
    "|---|---|---|\n",
    "| 4 | 1 | 7 |\n",
    "|   | 3 | 6 |\n",
    "\n",
    "5 précède 1,2,3,4 - 4 inversions\n",
    "\n",
    "2 précède 1 - 1 inversion\n",
    "\n",
    "8 précède 1,3,4,6,7 - 5 inversions\n",
    "\n",
    "4 précèdent 1,3 - 2 inversions\n",
    "\n",
    "1 précède aucun - 0 inversions\n",
    "\n",
    "7 précède 3,4 - 2 inversions\n",
    "\n",
    "3 précède aucun - 0 inversions\n",
    "\n",
    "6 précède aucun - 0 inversions\n",
    "\n",
    "total des inversions 4+1+5+2+0+2+0+0 = 14 (nombre pair)\n",
    "Cette énigme peut donc être résolue."
   ]
  }
 ],
 "metadata": {
  "kernelspec": {
   "display_name": "env",
   "language": "python",
   "name": "python3"
  },
  "language_info": {
   "name": "python",
   "version": "3.9.7"
  }
 },
 "nbformat": 4,
 "nbformat_minor": 2
}
