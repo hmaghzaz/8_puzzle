{
 "cells": [
  {
   "cell_type": "markdown",
   "metadata": {},
   "source": [
    "# Développement d'un Agent IA pour la Résolution d'un Puzzle 3x3 (8 Puzzle)\n",
    "\n",
    "Dans ce projet, nous allons créer un agent IA pour résoudre un puzzle de 3 lignes et 3 colonnes, où chaque case contient un chiffre de 1 à 8, sans répétition, avec une case vide. L'objectif de l'agent est de déplacer les cases en utilisant la case vide afin d'obtenir l'ordre croissant de 1 à 8."
   ]
  },
  {
   "cell_type": "markdown",
   "metadata": {},
   "source": [
    "## Environnemment\n",
    "\n",
    "| 1 | 2 | 3 |\n",
    "|---|---|---|\n",
    "| 4 | 5 | 6 |\n",
    "|   7| 8 |  |\n",
    "\n",
    "\n",
    "### Type de l'environnement \n",
    "1) Entièrement observable: l'agent a accès à toutes les informations nécessaires pour connaître l'état du puzzle dès la première observation.\n",
    "2) Déterministe : chaque action de l'agent entraine un état attendu, sans variations inattendues.\n",
    "3) Statique: l'état du l'environnement ne se change pas de manière autonome. c'est l'action executé par l'agent qui modifie la position des cases.\n",
    "4) Discret: dans le puzzle 3x3, il y a un nombre limité de cases et de configurations possibles pour les chiffres et la case vide. Chaque mouvement mène à un état distinct et identifiable du puzzle.\n",
    "5) Connu : l’agent sait que chaque action déplace la case vide dans une direction précise et produit un état bien défini, sans aucune incertitude.\n",
    "6) Séquentiel: les actions sont donc séquentielles car elles s'enchaînent logiquement et influencent les états futurs de l’environnement.\n",
    "7) Agent unique : il n’y a qu'un seul agent qui manipule les cases pour atteindre l’objectif. Aucun autre agent ne participe à la résolution du puzzle.  \n",
    "\n",
    "### Representation de l'evironnement :\n",
    "L'état du puzzle 3X3 peut être représenter par une matrice 2D, chaque cellule contient un nombre de 1 à 8 et une case vide représenter par 0. "
   ]
  },
  {
   "cell_type": "code",
   "execution_count": null,
   "metadata": {},
   "outputs": [],
   "source": [
    "# Exemple d'état initial\n",
    "initial_state = [\n",
    "    [1, 2, 3],\n",
    "    [4, 5, 6],\n",
    "    [7, 0, 8]  # 0 représente la case vide\n",
    "]"
   ]
  },
  {
   "cell_type": "markdown",
   "metadata": {},
   "source": [
    "### Test de solvabilité\n",
    "\n",
    "Il n'est pas possible de résoudre une instance de 8 puzzle si le nombre d'inversions est impair dans l'état d'entrée.\n",
    "\n",
    "| 1 | 2 | 3 |\n",
    "|---|---|---|\n",
    "| 4 | 5 | 6 |\n",
    "|   | 8 | 7 |\n",
    "\n",
    "\n",
    "Écrivez-le de façon linéaire, 1,2,3,4,5,6,8,7 - Ne tenez pas compte de la tuile vide.\n",
    "\n",
    "Trouvez maintenant le nombre d'inversions, en comptant les tuiles qui précèdent une autre tuile avec un nombre inférieur.\n",
    "\n",
    "Dans notre cas, 1,2,3,4,5,6,7 a 0 inversion, et 8 a 1 inversion car il précède le chiffre 7.\n",
    "\n",
    "Le nombre total d'inversions est de 1 (nombre impair) et le puzzle est donc insoluble.\n",
    "\n",
    "\n",
    "-----------------------------------------------------------------------------------------------------------------------------------------------\n",
    "\n",
    "\n",
    "\n",
    "| 5 | 2 | 8 |\n",
    "|---|---|---|\n",
    "| 4 | 1 | 7 |\n",
    "|   | 3 | 6 |\n",
    "\n",
    "5 précède 1,2,3,4 - 4 inversions\n",
    "\n",
    "2 précède 1 - 1 inversion\n",
    "\n",
    "8 précède 1,3,4,6,7 - 5 inversions\n",
    "\n",
    "4 précèdent 1,3 - 2 inversions\n",
    "\n",
    "1 précède aucun - 0 inversions\n",
    "\n",
    "7 précède 3,4 - 2 inversions\n",
    "\n",
    "3 précède aucun - 0 inversions\n",
    "\n",
    "6 précède aucun - 0 inversions\n",
    "\n",
    "total des inversions 4+1+5+2+0+2+0+0 = 14 (nombre pair)\n",
    "Cette énigme peut donc être résolue."
   ]
  },
  {
   "cell_type": "markdown",
   "metadata": {},
   "source": [
    "## Class Environnemt\n",
    "\n",
    "La classe Environnement représente l'état d'un puzzle 3x3 et contient deux méthodes principales :\n",
    "\n",
    "<span style=\"color: orange; font-weight: 700\">is_goal</span> vérifie si l'état actuel correspond à l'état objectif (cases ordonnées de 1 à 8 avec une case vide).\n",
    "\n",
    "<span style=\"color: orange; font-weight: 700\">is_solvable</span> détermine si le puzzle est résolvable en comptant les inversions, ce qui indique la possibilité de résoudre l'état initial."
   ]
  },
  {
   "cell_type": "code",
   "execution_count": 2,
   "metadata": {},
   "outputs": [],
   "source": [
    "class Environnement:\n",
    "\n",
    "    def __init__(self, initial_state):\n",
    "        # Initialisation de l'environnement par un état de départ.\n",
    "        self.state = initial_state\n",
    "\n",
    "    # Vérifier si l'état actuel est l'état objective\n",
    "    def is_goal(self, state):\n",
    "        goal_state = [\n",
    "            [1, 2, 3],\n",
    "            [4, 5, 6],\n",
    "            [7, 8, 0]\n",
    "        ]\n",
    "        return state == goal_state\n",
    "\n",
    "    def is_solvable(self):\n",
    "        # Aplatir l'état et retirer le zéro (case vide)\n",
    "        flat_puzzle = [num for row in self.state for num in row if num != 0]\n",
    "        inversions = 0\n",
    "\n",
    "        # Compter les inversions\n",
    "        for i in range(len(flat_puzzle)):\n",
    "            for j in range(i + 1, len(flat_puzzle)):\n",
    "                if flat_puzzle[i] > flat_puzzle[j]:\n",
    "                    inversions += 1\n",
    "\n",
    "        # Le puzzle est solvable si :\n",
    "        # - le nombre d'inversions est pair\n",
    "        return inversions % 2 == 0"
   ]
  },
  {
   "cell_type": "markdown",
   "metadata": {},
   "source": [
    "## Test class Environnement"
   ]
  },
  {
   "cell_type": "code",
   "execution_count": null,
   "metadata": {},
   "outputs": [],
   "source": [
    "initial_state = [\n",
    "    [1, 2, 3],\n",
    "    [4, 5, 6],\n",
    "    [0, 8, 7]\n",
    "]\n",
    "environnement = Environnement(initial_state)\n",
    "assert environnement.is_solvable() == False, f\"Erreur l'état doit être insoulvable\"\n",
    "print(f\"l'état founrie n'est pas soulvable\")"
   ]
  },
  {
   "cell_type": "markdown",
   "metadata": {},
   "source": [
    "## Class Capteur\n",
    "\n",
    "La classe Capteur fournit à l'agent les informations sur l'état actuel du puzzle et la position de la case vide en accédant directement à l'environnement. Elle permet ainsi à l'agent de prendre des décisions en fonction de la configuration courante des cases."
   ]
  },
  {
   "cell_type": "code",
   "execution_count": 11,
   "metadata": {},
   "outputs": [],
   "source": [
    "class Capteur:\n",
    "\n",
    "    def __init__(self, environnement):\n",
    "        self.environnement = environnement\n",
    "\n",
    "    # Lire l'état actuel\n",
    "    def get_current_state(self):\n",
    "        return self.environnement.state\n",
    "\n",
    "    # Trouver la position de la case vide\n",
    "    def find_empty(self, state):\n",
    "        for i, row in enumerate(state):\n",
    "            if 0 in row:\n",
    "                # print(f\"la position de vide et {i, row.index(0)}\")\n",
    "                return i, row.index(0)"
   ]
  },
  {
   "cell_type": "markdown",
   "metadata": {},
   "source": [
    "### Test de la class Capteur"
   ]
  },
  {
   "cell_type": "code",
   "execution_count": 12,
   "metadata": {},
   "outputs": [
    {
     "name": "stdout",
     "output_type": "stream",
     "text": [
      "Etat initial est : [[1, 2, 3], [4, 0, 5], [6, 7, 8]]\n",
      "position vide est : (1, 1)\n",
      "Tous les tests du capteur ont réussi !\n"
     ]
    }
   ],
   "source": [
    "# Étape 1 : Créer un état initial du puzzle\n",
    "initial_state = [\n",
    "    [1, 2, 3],\n",
    "    [4, 0, 5],  # 0 représente la case vide position (1,1)\n",
    "    [6, 7, 8]\n",
    "]\n",
    "\n",
    "# Créer l'Environnement\n",
    "environnement = Environnement(initial_state)\n",
    "\n",
    "# Créer le capteur\n",
    "capteur = Capteur(environnement)\n",
    "\n",
    "# Étape 4 : Tester la méthode lire_etat()\n",
    "etat = capteur.get_current_state()\n",
    "assert etat == initial_state, f\"Erreur : l'état lu est {etat}, attendu {initial_state}\"\n",
    "\n",
    "# Étape 5 : Tester la méthode position_vide()\n",
    "position_vide = capteur.find_empty(etat)\n",
    "assert position_vide == (\n",
    "    1, 1), f\"Erreur : position vide est {position_vide}, attendu (1, 1)\"\n",
    "\n",
    "print(f\"Etat initial est : {initial_state}\")\n",
    "\n",
    "print(f\"position vide est : {position_vide}\")\n",
    "\n",
    "print(\"Tous les tests du capteur ont réussi !\")"
   ]
  }
 ],
 "metadata": {
  "kernelspec": {
   "display_name": "env",
   "language": "python",
   "name": "python3"
  },
  "language_info": {
   "codemirror_mode": {
    "name": "ipython",
    "version": 3
   },
   "file_extension": ".py",
   "mimetype": "text/x-python",
   "name": "python",
   "nbconvert_exporter": "python",
   "pygments_lexer": "ipython3",
   "version": "3.9.7"
  }
 },
 "nbformat": 4,
 "nbformat_minor": 2
}
